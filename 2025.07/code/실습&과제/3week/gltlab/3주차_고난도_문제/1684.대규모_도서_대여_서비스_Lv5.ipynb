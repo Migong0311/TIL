{
  "cells": [
    {
      "cell_type": "markdown",
      "metadata": {},
      "source": [
        "# 도서 대여 시스템 로직 설명\n",
        "\n",
        "이 노트북은 도서 대여 프로그램의 핵심 로직을 설명합니다. 총 3개의 주요 함수와 데이터를 기반으로 실행됩니다."
      ]
    },
    {
      "cell_type": "markdown",
      "metadata": {},
      "source": [
        "## 1. 전역 변수 정의\n",
        "- `number_of_people`: 사용자 수 (이 로직에서는 직접 사용되지 않지만 확장 가능성 존재)\n",
        "- `number_of_book`: 현재 남은 책의 수 (초기값: 100)"
      ]
    },
    {
      "cell_type": "code",
      "execution_count": null,
      "metadata": {},
      "outputs": [],
      "source": [
        "number_of_people = 0\n",
        "number_of_book = 100"
      ]
    },
    {
      "cell_type": "markdown",
      "metadata": {},
      "source": [
        "## 2. `decrease_book()` 함수\n",
        "- 사용자의 이름과 대여할 책의 수를 받아서,\n",
        "  - 전역 변수 `number_of_book`을 감소시킵니다.\n",
        "  - 남은 책 수와 대여 정보를 출력합니다."
      ]
    },
    {
      "cell_type": "code",
      "execution_count": null,
      "metadata": {},
      "outputs": [],
      "source": [
        "def decrease_book(name, number):\n",
        "    global number_of_book\n",
        "    number_of_book -= number\n",
        "    print(f\"남은 책의 수 : {number_of_book}\")\n",
        "    print(f\"{name}님이 {number}권의 책을 대여하였습니다.\")"
      ]
    },
    {
      "cell_type": "markdown",
      "metadata": {},
      "source": [
        "## 3. `create_user()` 함수\n",
        "- 이름, 나이, 주소를 받아 딕셔너리(`user_info`)로 구성합니다.\n",
        "- 사용자 환영 메시지를 출력합니다."
      ]
    },
    {
      "cell_type": "code",
      "execution_count": null,
      "metadata": {},
      "outputs": [],
      "source": [
        "def create_user(name, age, address):\n",
        "    user_info = {}\n",
        "    user_info['name'] = name\n",
        "    user_info['age'] = age\n",
        "    user_info['address'] = address\n",
        "    print(f\"{name}님 환영합니다!\")\n",
        "    return user_info"
      ]
    },
    {
      "cell_type": "markdown",
      "metadata": {},
      "source": [
        "## 4. `rental_book()` 함수\n",
        "- 사용자 딕셔너리를 받아 이름과 나이를 추출합니다.\n",
        "- 나이를 기준으로 책 대여 수(`age // 10`)를 계산합니다.\n",
        "- `decrease_book()`을 호출합니다."
      ]
    },
    {
      "cell_type": "code",
      "execution_count": null,
      "metadata": {},
      "outputs": [],
      "source": [
        "def rental_book(info):\n",
        "    name = info['name']\n",
        "    age = info['age']\n",
        "    count_rental = age // 10\n",
        "    decrease_book(name, count_rental)"
      ]
    },
    {
      "cell_type": "markdown",
      "metadata": {},
      "source": [
        "## 5. 사용자 데이터 생성 및 전체 실행 흐름\n",
        "- 이름, 나이, 주소 리스트를 준비합니다.\n",
        "- `map()`을 통해 사용자 객체 리스트(`many_user`)를 생성합니다.\n",
        "- 다시 `map()`을 통해 각 사용자에게 책을 대여합니다."
      ]
    },
    {
      "cell_type": "code",
      "execution_count": null,
      "metadata": {},
      "outputs": [],
      "source": [
        "name = ['김시습', '허균', '남영로', '임제', '박지원']\n",
        "age = [20, 16, 52, 36, 60]\n",
        "address = ['서울', '강릉', '조선', '나주', '한성부']\n",
        "\n",
        "many_user = list(map(lambda n,a,ad: create_user(n,a,ad), name, age, address))\n",
        "\n",
        "list(map(rental_book, many_user))"
      ]
    }
  ],
  "metadata": {
    "kernelspec": {
      "display_name": "Python 3",
      "language": "python",
      "name": "python3"
    },
    "language_info": {
      "name": "python",
      "version": "3.11.9"
    }
  },
  "nbformat": 4,
  "nbformat_minor": 5
}
