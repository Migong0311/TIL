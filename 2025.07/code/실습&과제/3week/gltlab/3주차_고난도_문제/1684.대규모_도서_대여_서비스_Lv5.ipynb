{
  "cells": [
    {
      "cell_type": "markdown",
      "metadata": {},
      "source": [
        "# \ub3c4\uc11c \ub300\uc5ec \uc2dc\uc2a4\ud15c \ub85c\uc9c1 \uc124\uba85\n",
        "\n",
        "\uc774 \ub178\ud2b8\ubd81\uc740 \ub3c4\uc11c \ub300\uc5ec \ud504\ub85c\uadf8\ub7a8\uc758 \ud575\uc2ec \ub85c\uc9c1\uc744 \uc124\uba85\ud569\ub2c8\ub2e4. \ucd1d 3\uac1c\uc758 \uc8fc\uc694 \ud568\uc218\uc640 \ub370\uc774\ud130\ub97c \uae30\ubc18\uc73c\ub85c \uc2e4\ud589\ub429\ub2c8\ub2e4."
      ]
    },
    {
      "cell_type": "markdown",
      "metadata": {},
      "source": [
        "## 1. \uc804\uc5ed \ubcc0\uc218 \uc815\uc758\n",
        "- `number_of_people`: \uc0ac\uc6a9\uc790 \uc218 (\uc774 \ub85c\uc9c1\uc5d0\uc11c\ub294 \uc9c1\uc811 \uc0ac\uc6a9\ub418\uc9c0 \uc54a\uc9c0\ub9cc \ud655\uc7a5 \uac00\ub2a5\uc131 \uc874\uc7ac)\n",
        "- `number_of_book`: \ud604\uc7ac \ub0a8\uc740 \ucc45\uc758 \uc218 (\ucd08\uae30\uac12: 100)"
      ]
    },
    {
      "cell_type": "code",
      "execution_count": null,
      "metadata": {},
      "outputs": [],
      "source": [
        "number_of_people = 0\n",
        "number_of_book = 100"
      ]
    },
    {
      "cell_type": "markdown",
      "metadata": {},
      "source": [
        "## 2. `decrease_book()` \ud568\uc218\n",
        "- \uc0ac\uc6a9\uc790\uc758 \uc774\ub984\uacfc \ub300\uc5ec\ud560 \ucc45\uc758 \uc218\ub97c \ubc1b\uc544\uc11c,\n",
        "  - \uc804\uc5ed \ubcc0\uc218 `number_of_book`\uc744 \uac10\uc18c\uc2dc\ud0b5\ub2c8\ub2e4.\n",
        "  - \ub0a8\uc740 \ucc45 \uc218\uc640 \ub300\uc5ec \uc815\ubcf4\ub97c \ucd9c\ub825\ud569\ub2c8\ub2e4."
      ]
    },
    {
      "cell_type": "code",
      "execution_count": null,
      "metadata": {},
      "outputs": [],
      "source": [
        "def decrease_book(name, number):\n",
        "    global number_of_book\n",
        "    number_of_book -= number\n",
        "    print(f\"\ub0a8\uc740 \ucc45\uc758 \uc218 : {number_of_book}\")\n",
        "    print(f\"{name}\ub2d8\uc774 {number}\uad8c\uc758 \ucc45\uc744 \ub300\uc5ec\ud558\uc600\uc2b5\ub2c8\ub2e4.\")"
      ]
    },
    {
      "cell_type": "markdown",
      "metadata": {},
      "source": [
        "## 3. `create_user()` \ud568\uc218\n",
        "- \uc774\ub984, \ub098\uc774, \uc8fc\uc18c\ub97c \ubc1b\uc544 \ub515\uc154\ub108\ub9ac(`user_info`)\ub85c \uad6c\uc131\ud569\ub2c8\ub2e4.\n",
        "- \uc0ac\uc6a9\uc790 \ud658\uc601 \uba54\uc2dc\uc9c0\ub97c \ucd9c\ub825\ud569\ub2c8\ub2e4."
      ]
    },
    {
      "cell_type": "code",
      "execution_count": null,
      "metadata": {},
      "outputs": [],
      "source": [
        "def create_user(name, age, address):\n",
        "    user_info = {}\n",
        "    user_info['name'] = name\n",
        "    user_info['age'] = age\n",
        "    user_info['address'] = address\n",
        "    print(f\"{name}\ub2d8 \ud658\uc601\ud569\ub2c8\ub2e4!\")\n",
        "    return user_info"
      ]
    },
    {
      "cell_type": "markdown",
      "metadata": {},
      "source": [
        "## 4. `rental_book()` \ud568\uc218\n",
        "- \uc0ac\uc6a9\uc790 \ub515\uc154\ub108\ub9ac\ub97c \ubc1b\uc544 \uc774\ub984\uacfc \ub098\uc774\ub97c \ucd94\ucd9c\ud569\ub2c8\ub2e4.\n",
        "- \ub098\uc774\ub97c \uae30\uc900\uc73c\ub85c \ucc45 \ub300\uc5ec \uc218(`age // 10`)\ub97c \uacc4\uc0b0\ud569\ub2c8\ub2e4.\n",
        "- `decrease_book()`\uc744 \ud638\ucd9c\ud569\ub2c8\ub2e4."
      ]
    },
    {
      "cell_type": "code",
      "execution_count": null,
      "metadata": {},
      "outputs": [],
      "source": [
        "def rental_book(info):\n",
        "    name = info['name']\n",
        "    age = info['age']\n",
        "    count_rental = age // 10\n",
        "    decrease_book(name, count_rental)"
      ]
    },
    {
      "cell_type": "markdown",
      "metadata": {},
      "source": [
        "## 5. \uc0ac\uc6a9\uc790 \ub370\uc774\ud130 \uc0dd\uc131 \ubc0f \uc804\uccb4 \uc2e4\ud589 \ud750\ub984\n",
        "- \uc774\ub984, \ub098\uc774, \uc8fc\uc18c \ub9ac\uc2a4\ud2b8\ub97c \uc900\ube44\ud569\ub2c8\ub2e4.\n",
        "- `map()`\uc744 \ud1b5\ud574 \uc0ac\uc6a9\uc790 \uac1d\uccb4 \ub9ac\uc2a4\ud2b8(`many_user`)\ub97c \uc0dd\uc131\ud569\ub2c8\ub2e4.\n",
        "- \ub2e4\uc2dc `map()`\uc744 \ud1b5\ud574 \uac01 \uc0ac\uc6a9\uc790\uc5d0\uac8c \ucc45\uc744 \ub300\uc5ec\ud569\ub2c8\ub2e4."
      ]
    },
    {
      "cell_type": "code",
      "execution_count": null,
      "metadata": {},
      "outputs": [],
      "source": [
        "name = ['\uae40\uc2dc\uc2b5', '\ud5c8\uade0', '\ub0a8\uc601\ub85c', '\uc784\uc81c', '\ubc15\uc9c0\uc6d0']\n",
        "age = [20, 16, 52, 36, 60]\n",
        "address = ['\uc11c\uc6b8', '\uac15\ub989', '\uc870\uc120', '\ub098\uc8fc', '\ud55c\uc131\ubd80']\n",
        "\n",
        "many_user = list(map(lambda n,a,ad: create_user(n,a,ad), name, age, address))\n",
        "\n",
        "list(map(rental_book, many_user))"
      ]
    }
  ],
  "metadata": {
    "kernelspec": {
      "display_name": "Python 3",
      "language": "python",
      "name": "python3"
    },
    "language_info": {
      "name": "python",
      "version": "3.8"
    }
  },
  "nbformat": 4,
  "nbformat_minor": 5
}