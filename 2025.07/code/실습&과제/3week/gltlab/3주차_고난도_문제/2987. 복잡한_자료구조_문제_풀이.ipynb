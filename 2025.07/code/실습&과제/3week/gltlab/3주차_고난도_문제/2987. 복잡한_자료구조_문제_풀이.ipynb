{
  "cells": [
    {
      "cell_type": "markdown",
      "metadata": {},
      "source": [
        "# 📘 2987. 복잡한 자료구조 문제 풀이\n",
        "\n",
        "주어진 JSON 형태의 데이터를 파싱하여 원하는 항목만 추출하는 문제입니다. 문제에서 요구하는 항목은 다음과 같습니다:\n",
        "\n",
        "- `제목`: 문제의 제목\n",
        "- `일차`: 문제 풀이 날짜 또는 회차 정보\n",
        "- `단계`: 문제 난이도 또는 분류 단계\n",
        "- `과목`: 해당 문제의 과목 이름\n",
        "\n",
        "이 데이터는 `data`라는 리스트 내부에 하나의 딕셔너리로 포함되어 있으며, 그 안에 `results` → `[0]` → `properties` 구조로 정보가 존재합니다."
      ]
    },
    {
      "cell_type": "code",
      "execution_count": null,
      "metadata": {},
      "outputs": [],
      "source": [
        "# 데이터 정의\n",
        "data = [{'has_more': False,\n",
        "         'next_cursor': None,\n",
        "         'object': 'list',\n",
        "         'page_or_database': {},\n",
        "         'request_id': 'a5163fff-758f-45ea-b6fb',\n",
        "         'results': [{'archived': False,\n",
        "                      'cover': None,\n",
        "                      'created_by': {'object': 'user'},\n",
        "                      'created_time': '2023-06-15T04:29:00.000Z',\n",
        "                      'icon': None,\n",
        "                      'last_edited_by': {'object': 'user'},\n",
        "                      'last_edited_time': '2023-12-12T09:19:00.000Z',\n",
        "                      'object': 'page',\n",
        "                      'parent': {'type': 'database_id'},\n",
        "                      'properties': {'setNum': {'id': '%7DK%40%5C',\n",
        "                                                'number': 1,\n",
        "                                                'type': 'number'},\n",
        "                                     '과목': {'id': 'YuIE',\n",
        "                                            'multi_select': [{'color': 'default',\n",
        "                                                              'name': 'Python'}],\n",
        "                                            'type': 'multi_select'},\n",
        "                                     '구분': {'id': '%40%3EmR',\n",
        "                                            'select': {'color': 'purple',\n",
        "                                                       'name': '실습'},\n",
        "                                            'type': 'select'},\n",
        "                                     '단계': {'id': 'T%7B%7BP',\n",
        "                                            'select': {'color': 'default',\n",
        "                                                       'name': '3'},\n",
        "                                            'type': 'select'},\n",
        "                                     '문제번호': {'id': 'uEBt',\n",
        "                                              'number': 1431,\n",
        "                                              'type': 'number'},\n",
        "                                     '제목': {'id': 'title',\n",
        "                                            'title': [{'annotations': {'bold': False,\n",
        "                                                                       'code': False,\n",
        "                                                                       'color': 'default',\n",
        "                                                                       'italic': False,\n",
        "                                                                       'strikethrough': False,\n",
        "                                                                       'underline': False},\n",
        "                                                       'href': None,\n",
        "                                                       'plain_text': '복잡한 자료구조',\n",
        "                                                       'text': {'content': '복잡한 자료구조',\n",
        "                                                                'link': None},\n",
        "                                                       'type': 'text'}],\n",
        "                                            'type': 'title'},\n",
        "                                     '일차': {'id': 'nWnH',\n",
        "                                            'number': '2',\n",
        "                                            'type': 'number'},\n",
        "                                     '커리큘럼': {'id': 'T%3AR_',\n",
        "                                              'multi_select': [{'color': 'default',\n",
        "                                                                'name': 'fundamentals-of-python'}],\n",
        "                                              'type': 'multi_select'}}}]}]"
      ]
    },
    {
      "cell_type": "markdown",
      "metadata": {},
      "source": [
        "## 🔍 데이터 파싱 및 추출 과정\n",
        "\n",
        "1. `data[0]['results'][0]['properties']`를 통해 필요한 속성(properties) 정보를 가져옵니다.\n",
        "2. 각 항목을 아래와 같은 방식으로 추출합니다:\n",
        "\n",
        "- 제목: `['제목']['title'][0]['plain_text']`\n",
        "- 일차: `['일차']['number']`\n",
        "- 단계: `['단계']['select']['name'] + '단계'`\n",
        "- 과목: `['과목']['multi_select'][0]['name']`"
      ]
    },
    {
      "cell_type": "code",
      "execution_count": null,
      "metadata": {},
      "outputs": [],
      "source": [
        "properties = data[0]['results'][0]['properties']\n",
        "\n",
        "first_data = {\n",
        "    '제목': properties['제목']['title'][0]['plain_text'],\n",
        "    '일차': properties['일차']['number'],\n",
        "    '단계': properties['단계']['select']['name'] + '단계',\n",
        "    '과목': properties['과목']['multi_select'][0]['name']\n",
        "}\n",
        "print(first_data)"
      ]
    },
    {
      "cell_type": "markdown",
      "metadata": {},
      "source": [
        "## ✅ 출력 결과\n",
        "\n",
        "```python\n",
        "{'제목': '복잡한 자료구조', '일차': 2, '단계': '3단계', '과목': 'Python'}\n",
        "```\n",
        "\n",
        "위와 같이 주어진 JSON 형태의 중첩 구조에서도 원하는 정보를 정확하게 추출해 낼 수 있습니다."
      ]
    }
  ],
  "metadata": {
    "kernelspec": {
      "display_name": "Python 3",
      "language": "python",
      "name": "python3"
    },
    "language_info": {
      "name": "python",
      "version": "3.8"
    }
  },
  "nbformat": 4,
  "nbformat_minor": 2
}